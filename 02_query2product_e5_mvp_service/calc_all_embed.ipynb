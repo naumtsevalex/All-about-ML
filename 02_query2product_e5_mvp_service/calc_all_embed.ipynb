{
 "cells": [
  {
   "cell_type": "code",
   "execution_count": null,
   "metadata": {},
   "outputs": [],
   "source": []
  },
  {
   "cell_type": "code",
   "execution_count": 4,
   "metadata": {},
   "outputs": [
    {
     "name": "stderr",
     "output_type": "stream",
     "text": [
      "/home/sirius3085/.venv/lib/python3.11/site-packages/tqdm/auto.py:21: TqdmWarning: IProgress not found. Please update jupyter and ipywidgets. See https://ipywidgets.readthedocs.io/en/stable/user_install.html\n",
      "  from .autonotebook import tqdm as notebook_tqdm\n"
     ]
    }
   ],
   "source": [
    "from transformers import AutoModel, AutoTokenizer\n",
    "import torch\n",
    "\n",
    "# Путь к сохранённой модели\n",
    "MODEL_DIR = \"saved_e5_model\"\n",
    "\n",
    "# Загрузка токенизатора и модели\n",
    "tokenizer = AutoTokenizer.from_pretrained(MODEL_DIR)\n",
    "model = AutoModel.from_pretrained(MODEL_DIR)\n",
    "model.eval()  # Обязательно для инференса\n",
    "device = torch.device('cuda:6' if torch.cuda.is_available() else 'cpu')\n",
    "model = model.to(device)\n"
   ]
  },
  {
   "cell_type": "code",
   "execution_count": 5,
   "metadata": {},
   "outputs": [],
   "source": [
    "def encode_texts(texts, prefix=\"query\", batch_size=32):\n",
    "    \"\"\"\n",
    "    Кодирует список текстов в эмбеддинги (используется [CLS] токен).\n",
    "    prefix: \"query\" или \"passage\" (для правильного шаблона).\n",
    "    \"\"\"\n",
    "    embeddings = []\n",
    "\n",
    "    for i in range(0, len(texts), batch_size):\n",
    "        batch = texts[i:i+batch_size]\n",
    "        inputs = tokenizer(\n",
    "            [f\"{prefix}: {text}\" for text in batch],\n",
    "            padding=True,\n",
    "            truncation=True,\n",
    "            return_tensors='pt'\n",
    "        ).to(device)\n",
    "\n",
    "        with torch.no_grad():\n",
    "            output = model(**inputs)\n",
    "            cls_emb = output.last_hidden_state[:, 0]  # [CLS] токен\n",
    "            embeddings.append(cls_emb.cpu())\n",
    "\n",
    "    return torch.cat(embeddings, dim=0).numpy()"
   ]
  },
  {
   "cell_type": "code",
   "execution_count": 6,
   "metadata": {},
   "outputs": [
    {
     "name": "stderr",
     "output_type": "stream",
     "text": [
      "Asking to truncate to max_length but no maximum length is provided and the model has no predefined maximum length. Default to no truncation.\n"
     ]
    },
    {
     "name": "stdout",
     "output_type": "stream",
     "text": [
      "✅ Эмбеддинги запросов: (2, 384)\n"
     ]
    }
   ],
   "source": [
    "# Пример запроса\n",
    "queries = [\"wireless bluetooth headphones\", \"usb-c charging cable\"]\n",
    "query_embs = encode_texts(queries, prefix=\"query\")\n",
    "\n",
    "print(\"✅ Эмбеддинги запросов:\", query_embs.shape)"
   ]
  },
  {
   "cell_type": "code",
   "execution_count": 7,
   "metadata": {},
   "outputs": [],
   "source": [
    "# --- 1. Загрузка исходных данных ---\n",
    "from datasets import load_dataset\n",
    "import pandas as pd\n",
    "from tqdm import tqdm\n",
    "import os\n",
    "import numpy as np\n",
    "\n",
    "PRODUCTS_PATH = \"product_titles.csv\"\n",
    "EMBEDS_PATH = \"product_embeddings.npy\"\n",
    "# EMBEDS_PATH = \"small_product_embeddings.npy\"\n",
    "MODEL_PATH = \"saved_e5_model\""
   ]
  },
  {
   "cell_type": "code",
   "execution_count": 12,
   "metadata": {},
   "outputs": [
    {
     "name": "stdout",
     "output_type": "stream",
     "text": [
      "📥 Загружаем датасет с Hugging Face...\n"
     ]
    },
    {
     "name": "stderr",
     "output_type": "stream",
     "text": [
      "📄 Преобразуем в DataFrame: 100%|██████████| 2027874/2027874 [03:59<00:00, 8483.66it/s]\n"
     ]
    },
    {
     "name": "stdout",
     "output_type": "stream",
     "text": [
      "🛍️ Уникальных товаров: 1423918\n"
     ]
    }
   ],
   "source": [
    "# --- 1. Загрузка товаров ---\n",
    "if os.path.exists(PRODUCTS_PATH):\n",
    "    print(\"📦 Загружаем сохранённые товары и эмбеддинги...\")\n",
    "    product_titles = pd.read_csv(PRODUCTS_PATH).squeeze().tolist()\n",
    "    print(f\"✅ Загрузили {len(product_titles)} товаров\")\n",
    "else:\n",
    "    print(\"📥 Загружаем датасет с Hugging Face...\")\n",
    "    dataset = load_dataset(\"tasksource/esci\", split=\"train\")\n",
    "    df = pd.DataFrame([x for x in tqdm(dataset, desc=\"📄 Преобразуем в DataFrame\")])\n",
    "\n",
    "    product_titles = df['product_title'].dropna().unique().tolist()\n",
    "    print(f\"🛍️ Уникальных товаров: {len(product_titles)}\")\n",
    "    pd.Series(product_titles).to_csv(PRODUCTS_PATH, index=False)"
   ]
  },
  {
   "cell_type": "code",
   "execution_count": 15,
   "metadata": {},
   "outputs": [],
   "source": [
    "def encode_texts(texts, prefix=\"passage\", batch_size=64):\n",
    "    all_embeddings = []\n",
    "    for i in tqdm(range(0, len(texts), batch_size), desc=\"🚀 Кодируем товары\"):\n",
    "        batch = texts[i:i+batch_size]\n",
    "        inputs = tokenizer([f\"{prefix}: {t}\" for t in batch], padding=True, truncation=True, return_tensors='pt')\n",
    "        with torch.no_grad():\n",
    "            outputs = model(\n",
    "                input_ids=inputs['input_ids'].cuda(),\n",
    "                attention_mask=inputs['attention_mask'].cuda()\n",
    "            )\n",
    "        emb = outputs.last_hidden_state[:, 0].cpu().numpy()\n",
    "        all_embeddings.append(emb)\n",
    "    return np.vstack(all_embeddings)"
   ]
  },
  {
   "cell_type": "code",
   "execution_count": 26,
   "metadata": {},
   "outputs": [
    {
     "name": "stdout",
     "output_type": "stream",
     "text": [
      "📦 Загружаем сохранённую модель...\n"
     ]
    },
    {
     "name": "stderr",
     "output_type": "stream",
     "text": [
      "🚀 Кодируем товары:   0%|          | 0/11125 [00:00<?, ?it/s]Asking to truncate to max_length but no maximum length is provided and the model has no predefined maximum length. Default to no truncation.\n",
      "🚀 Кодируем товары: 100%|██████████| 11125/11125 [09:13<00:00, 20.10it/s]\n"
     ]
    },
    {
     "name": "stdout",
     "output_type": "stream",
     "text": [
      "✅ Эмбеддинги и названия товаров сохранены.\n"
     ]
    }
   ],
   "source": [
    "# Загрузка модели\n",
    "print(\"📦 Загружаем сохранённую модель...\")\n",
    "model = AutoModel.from_pretrained(MODEL_PATH).eval().cuda()\n",
    "tokenizer = AutoTokenizer.from_pretrained(MODEL_PATH)\n",
    "\n",
    "# Кодирование и сохранение\n",
    "product_embs = encode_texts(product_titles, batch_size=128)\n",
    "np.save(EMBEDS_PATH, product_embs)\n",
    "print(\"✅ Эмбеддинги и названия товаров сохранены.\")"
   ]
  },
  {
   "cell_type": "code",
   "execution_count": null,
   "metadata": {},
   "outputs": [],
   "source": []
  },
  {
   "cell_type": "code",
   "execution_count": 38,
   "metadata": {},
   "outputs": [
    {
     "name": "stderr",
     "output_type": "stream",
     "text": [
      "🚀 Кодируем товары: 100%|██████████| 1/1 [00:00<00:00, 60.86it/s]\n",
      "🚀 Кодируем товары: 100%|██████████| 1/1 [00:00<00:00, 67.14it/s]"
     ]
    },
    {
     "name": "stdout",
     "output_type": "stream",
     "text": [
      "📊 Similarity score: 0.9837\n"
     ]
    },
    {
     "name": "stderr",
     "output_type": "stream",
     "text": [
      "\n"
     ]
    }
   ],
   "source": [
    "_product_title = \"Wireless Headset\"\n",
    "_query = \"wireless headphones\"\n",
    "\n",
    "# Кодируем с нужными префиксами\n",
    "t = encode_texts([_product_title], prefix=\"passage\")  # → (1, dim)\n",
    "q = encode_texts([_query], prefix=\"query\")            # → (1, dim)\n",
    "\n",
    "# Нормализация\n",
    "t = t / np.linalg.norm(t, axis=1, keepdims=True)\n",
    "q = q / np.linalg.norm(q, axis=1, keepdims=True)\n",
    "\n",
    "# Скаларное произведение → косинусная близость\n",
    "score = np.dot(q, t.T)[0][0]\n",
    "\n",
    "print(f\"📊 Similarity score: {score:.4f}\")\n",
    "# +- совпадает с продом!"
   ]
  },
  {
   "cell_type": "code",
   "execution_count": null,
   "metadata": {},
   "outputs": [],
   "source": []
  },
  {
   "cell_type": "code",
   "execution_count": 8,
   "metadata": {},
   "outputs": [
    {
     "name": "stdout",
     "output_type": "stream",
     "text": [
      "📥 Загружаем датасет с Hugging Face...\n"
     ]
    },
    {
     "name": "stderr",
     "output_type": "stream",
     "text": [
      "📄 Преобразуем в DataFrame: 100%|██████████| 2027874/2027874 [04:00<00:00, 8425.57it/s]\n"
     ]
    },
    {
     "name": "stdout",
     "output_type": "stream",
     "text": [
      "📊 Считаем статистику по товарам...\n",
      "✅ Сохранили статистику для 1423918 товаров\n"
     ]
    }
   ],
   "source": [
    "import pandas as pd\n",
    "import os\n",
    "\n",
    "# добавляем статистику показов для каждого товара\n",
    "# ——— Загружаем датасет, если еще не загружен ———\n",
    "if not os.path.exists(PRODUCTS_PATH) or not os.path.exists(\"product_stats.csv\"):\n",
    "    print(\"📥 Загружаем датасет с Hugging Face...\")\n",
    "    dataset = load_dataset(\"tasksource/esci\", split=\"train\")\n",
    "    df = pd.DataFrame([x for x in tqdm(dataset, desc=\"📄 Преобразуем в DataFrame\")])\n",
    "    \n",
    "    # Уникальные товары\n",
    "    product_titles = df['product_title'].dropna().unique().tolist()\n",
    "    pd.Series(product_titles).to_csv(PRODUCTS_PATH, index=False)\n",
    "\n",
    "    # ——— Считаем количество показов каждого товара ———\n",
    "    print(\"📊 Считаем статистику по товарам...\")\n",
    "    stats = df['product_title'].value_counts().reset_index()\n",
    "    stats.columns = ['product_title', 'views']\n",
    "    stats.to_csv(\"product_stats.csv\", index=False)\n",
    "    print(f\"✅ Сохранили статистику для {len(stats)} товаров\")"
   ]
  },
  {
   "cell_type": "code",
   "execution_count": 11,
   "metadata": {},
   "outputs": [],
   "source": [
    "_stats = pd.read_csv(\"product_stats.csv\", index_col=0)"
   ]
  },
  {
   "cell_type": "code",
   "execution_count": 12,
   "metadata": {},
   "outputs": [
    {
     "data": {
      "text/html": [
       "<div>\n",
       "<style scoped>\n",
       "    .dataframe tbody tr th:only-of-type {\n",
       "        vertical-align: middle;\n",
       "    }\n",
       "\n",
       "    .dataframe tbody tr th {\n",
       "        vertical-align: top;\n",
       "    }\n",
       "\n",
       "    .dataframe thead th {\n",
       "        text-align: right;\n",
       "    }\n",
       "</style>\n",
       "<table border=\"1\" class=\"dataframe\">\n",
       "  <thead>\n",
       "    <tr style=\"text-align: right;\">\n",
       "      <th></th>\n",
       "      <th>views</th>\n",
       "    </tr>\n",
       "    <tr>\n",
       "      <th>product_title</th>\n",
       "      <th></th>\n",
       "    </tr>\n",
       "  </thead>\n",
       "  <tbody>\n",
       "    <tr>\n",
       "      <th>Pilot</th>\n",
       "      <td>161</td>\n",
       "    </tr>\n",
       "    <tr>\n",
       "      <th>Episode 1</th>\n",
       "      <td>157</td>\n",
       "    </tr>\n",
       "    <tr>\n",
       "      <th>Currently Unsupervised Novelty Graphic Sarcastic Funny T Shirt XL Black</th>\n",
       "      <td>92</td>\n",
       "    </tr>\n",
       "    <tr>\n",
       "      <th>変な家</th>\n",
       "      <td>88</td>\n",
       "    </tr>\n",
       "    <tr>\n",
       "      <th>Acer (エイサー) Aspire 5 スリム ノートパソコン 15.6インチ フルHD IPS ディスプレイ AMD(アドバンスト・マイクロ・デバイセズ) Ryzen(ライゼン) 3 3200U (日本語配列ではない場合があります)</th>\n",
       "      <td>85</td>\n",
       "    </tr>\n",
       "  </tbody>\n",
       "</table>\n",
       "</div>"
      ],
      "text/plain": [
       "                                                    views\n",
       "product_title                                            \n",
       "Pilot                                                 161\n",
       "Episode 1                                             157\n",
       "Currently Unsupervised Novelty Graphic Sarcasti...     92\n",
       "変な家                                                    88\n",
       "Acer (エイサー) Aspire 5 スリム ノートパソコン 15.6インチ フルHD I...     85"
      ]
     },
     "execution_count": 12,
     "metadata": {},
     "output_type": "execute_result"
    }
   ],
   "source": [
    "_stats.head()"
   ]
  },
  {
   "cell_type": "code",
   "execution_count": null,
   "metadata": {},
   "outputs": [],
   "source": []
  }
 ],
 "metadata": {
  "kernelspec": {
   "display_name": ".venv",
   "language": "python",
   "name": "python3"
  },
  "language_info": {
   "codemirror_mode": {
    "name": "ipython",
    "version": 3
   },
   "file_extension": ".py",
   "mimetype": "text/x-python",
   "name": "python",
   "nbconvert_exporter": "python",
   "pygments_lexer": "ipython3",
   "version": "3.11.2"
  }
 },
 "nbformat": 4,
 "nbformat_minor": 2
}
